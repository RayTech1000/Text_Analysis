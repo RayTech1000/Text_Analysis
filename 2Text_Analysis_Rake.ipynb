{
  "nbformat": 4,
  "nbformat_minor": 0,
  "metadata": {
    "colab": {
      "provenance": []
    },
    "kernelspec": {
      "display_name": "Python 3",
      "name": "python3"
    },
    "language_info": {
      "name": "python"
    }
  },
  "cells": [
    {
      "cell_type": "code",
      "metadata": {
        "id": "QwU892KrHNd4",
        "colab": {
          "base_uri": "https://localhost:8080/"
        },
        "outputId": "2e491ee6-06dc-4e1d-8a1a-bacb21f49445"
      },
      "source": [
        "!pip install rake-nltk\n",
        "!pip install python-rake\n",
        "!pip install -U nltk\n",
        "import pandas as pd\n",
        "import numpy as np\n",
        "import matplotlib.pyplot as plt\n",
        "import nltk\n",
        "\n",
        "import nltk\n",
        "nltk.download('stopwords')\n",
        "import nltk\n",
        "nltk.download('punkt')\n",
        "from rake_nltk import Rake"
      ],
      "execution_count": null,
      "outputs": [
        {
          "output_type": "stream",
          "name": "stdout",
          "text": [
            "Looking in indexes: https://pypi.org/simple, https://us-python.pkg.dev/colab-wheels/public/simple/\n",
            "Requirement already satisfied: rake-nltk in /usr/local/lib/python3.8/dist-packages (1.0.6)\n",
            "Requirement already satisfied: nltk<4.0.0,>=3.6.2 in /usr/local/lib/python3.8/dist-packages (from rake-nltk) (3.8.1)\n",
            "Requirement already satisfied: click in /usr/local/lib/python3.8/dist-packages (from nltk<4.0.0,>=3.6.2->rake-nltk) (7.1.2)\n",
            "Requirement already satisfied: joblib in /usr/local/lib/python3.8/dist-packages (from nltk<4.0.0,>=3.6.2->rake-nltk) (1.2.0)\n",
            "Requirement already satisfied: tqdm in /usr/local/lib/python3.8/dist-packages (from nltk<4.0.0,>=3.6.2->rake-nltk) (4.64.1)\n",
            "Requirement already satisfied: regex>=2021.8.3 in /usr/local/lib/python3.8/dist-packages (from nltk<4.0.0,>=3.6.2->rake-nltk) (2022.6.2)\n",
            "Looking in indexes: https://pypi.org/simple, https://us-python.pkg.dev/colab-wheels/public/simple/\n",
            "Requirement already satisfied: python-rake in /usr/local/lib/python3.8/dist-packages (1.5.0)\n",
            "Looking in indexes: https://pypi.org/simple, https://us-python.pkg.dev/colab-wheels/public/simple/\n",
            "Requirement already satisfied: nltk in /usr/local/lib/python3.8/dist-packages (3.8.1)\n",
            "Requirement already satisfied: joblib in /usr/local/lib/python3.8/dist-packages (from nltk) (1.2.0)\n",
            "Requirement already satisfied: tqdm in /usr/local/lib/python3.8/dist-packages (from nltk) (4.64.1)\n",
            "Requirement already satisfied: click in /usr/local/lib/python3.8/dist-packages (from nltk) (7.1.2)\n",
            "Requirement already satisfied: regex>=2021.8.3 in /usr/local/lib/python3.8/dist-packages (from nltk) (2022.6.2)\n"
          ]
        },
        {
          "output_type": "stream",
          "name": "stderr",
          "text": [
            "[nltk_data] Downloading package stopwords to /root/nltk_data...\n",
            "[nltk_data]   Package stopwords is already up-to-date!\n",
            "[nltk_data] Downloading package punkt to /root/nltk_data...\n",
            "[nltk_data]   Package punkt is already up-to-date!\n"
          ]
        }
      ]
    },
    {
      "cell_type": "code",
      "source": [
        "rake = Rake()"
      ],
      "metadata": {
        "id": "AplBouaMJ0Z1"
      },
      "execution_count": null,
      "outputs": []
    },
    {
      "cell_type": "code",
      "source": [
        "#First page of Orwell's book 1984\n",
        "text = \"\"\"\n",
        "It was a bright cold day in April, and the clocks were striking thirteen. Winston Smith, his chin nuzzled into his\n",
        "breast in an effort to escape the vile wind, slipped quickly\n",
        "through the glass doors of Victory Mansions, though not\n",
        "quickly enough to prevent a swirl of gritty dust from entering along with him.\n",
        "The hallway smelt of boiled cabbage and old rag mats. At\n",
        "one end of it a coloured poster, too large for indoor display,\n",
        "had been tacked to the wall. It depicted simply an enormous face, more than a metre wide: the face of a man of\n",
        "about forty-five, with a heavy black moustache and ruggedly handsome features. Winston made for the stairs. It was\n",
        "no use trying the lift. Even at the best of times it was seldom working, and at present the electric current was cut\n",
        "off during daylight hours. It was part of the economy drive\n",
        "in preparation for Hate Week. The flat was seven flights up,\n",
        "and Winston, who was thirty-nine and had a varicose ulcer\n",
        "above his right ankle, went slowly, resting several times on\n",
        "the way. On each landing, opposite the lift-shaft, the poster\n",
        "with the enormous face gazed from the wall. It was one of\n",
        "those pictures which are so contrived that the eyes follow\n",
        "you about when you move. BIG BROTHER IS WATCHING\n",
        "YOU, the caption beneath it ran.\n",
        "\"\"\""
      ],
      "metadata": {
        "id": "DdDPACy9LMLn"
      },
      "execution_count": null,
      "outputs": []
    },
    {
      "cell_type": "code",
      "source": [
        "rake.extract_keywords_from_text(text)\n",
        "keyword_extracted = rake.get_ranked_phrases()\n",
        "print(keyword_extracted)"
      ],
      "metadata": {
        "colab": {
          "base_uri": "https://localhost:8080/"
        },
        "id": "UeWV6C2mNfOE",
        "outputId": "5a9c1c6b-c622-424d-f9dd-4ca101ed82c8"
      },
      "execution_count": null,
      "outputs": [
        {
          "output_type": "stream",
          "name": "stdout",
          "text": [
            "['ruggedly handsome features', 'old rag mats', 'heavy black moustache', 'bright cold day', 'resting several times', 'enormous face gazed', 'enormous face', 'went slowly', 'vile wind', 'victory mansions', 'varicose ulcer', 'use trying', 'striking thirteen', 'slipped quickly', 'seven flights', 'seldom working', 'right ankle', 'quickly enough', 'metre wide', 'indoor display', 'hate week', 'hallway smelt', 'gritty dust', 'glass doors', 'eyes follow', 'entering along', 'electric current', 'economy drive', 'depicted simply', 'daylight hours', 'chin nuzzled', 'caption beneath', 'boiled cabbage', 'big brother', 'winston smith', 'winston made', 'one end', 'coloured poster', 'times', 'face', 'winston', 'poster', 'one', 'way', 'watching', 'wall', 'wall', 'though', 'thirty', 'tacked', 'swirl', 'stairs', 'shaft', 'ran', 'prevent', 'present', 'preparation', 'pictures', 'part', 'opposite', 'nine', 'move', 'man', 'lift', 'lift', 'large', 'landing', 'forty', 'flat', 'five', 'even', 'escape', 'effort', 'cut', 'contrived', 'clocks', 'breast', 'best', 'april']\n"
          ]
        }
      ]
    },
    {
      "cell_type": "code",
      "source": [
        "rake.get_ranked_phrases_with_scores()"
      ],
      "metadata": {
        "colab": {
          "base_uri": "https://localhost:8080/"
        },
        "id": "22VacWCUONo_",
        "outputId": "17c09914-20ed-4e49-8ed9-1032dc4d0c19"
      },
      "execution_count": null,
      "outputs": [
        {
          "output_type": "execute_result",
          "data": {
            "text/plain": [
              "[(9.0, 'ruggedly handsome features'),\n",
              " (9.0, 'old rag mats'),\n",
              " (9.0, 'heavy black moustache'),\n",
              " (9.0, 'bright cold day'),\n",
              " (8.0, 'resting several times'),\n",
              " (7.5, 'enormous face gazed'),\n",
              " (4.5, 'enormous face'),\n",
              " (4.0, 'went slowly'),\n",
              " (4.0, 'vile wind'),\n",
              " (4.0, 'victory mansions'),\n",
              " (4.0, 'varicose ulcer'),\n",
              " (4.0, 'use trying'),\n",
              " (4.0, 'striking thirteen'),\n",
              " (4.0, 'slipped quickly'),\n",
              " (4.0, 'seven flights'),\n",
              " (4.0, 'seldom working'),\n",
              " (4.0, 'right ankle'),\n",
              " (4.0, 'quickly enough'),\n",
              " (4.0, 'metre wide'),\n",
              " (4.0, 'indoor display'),\n",
              " (4.0, 'hate week'),\n",
              " (4.0, 'hallway smelt'),\n",
              " (4.0, 'gritty dust'),\n",
              " (4.0, 'glass doors'),\n",
              " (4.0, 'eyes follow'),\n",
              " (4.0, 'entering along'),\n",
              " (4.0, 'electric current'),\n",
              " (4.0, 'economy drive'),\n",
              " (4.0, 'depicted simply'),\n",
              " (4.0, 'daylight hours'),\n",
              " (4.0, 'chin nuzzled'),\n",
              " (4.0, 'caption beneath'),\n",
              " (4.0, 'boiled cabbage'),\n",
              " (4.0, 'big brother'),\n",
              " (3.666666666666667, 'winston smith'),\n",
              " (3.666666666666667, 'winston made'),\n",
              " (3.5, 'one end'),\n",
              " (3.5, 'coloured poster'),\n",
              " (2.0, 'times'),\n",
              " (2.0, 'face'),\n",
              " (1.6666666666666667, 'winston'),\n",
              " (1.5, 'poster'),\n",
              " (1.5, 'one'),\n",
              " (1.0, 'way'),\n",
              " (1.0, 'watching'),\n",
              " (1.0, 'wall'),\n",
              " (1.0, 'wall'),\n",
              " (1.0, 'though'),\n",
              " (1.0, 'thirty'),\n",
              " (1.0, 'tacked'),\n",
              " (1.0, 'swirl'),\n",
              " (1.0, 'stairs'),\n",
              " (1.0, 'shaft'),\n",
              " (1.0, 'ran'),\n",
              " (1.0, 'prevent'),\n",
              " (1.0, 'present'),\n",
              " (1.0, 'preparation'),\n",
              " (1.0, 'pictures'),\n",
              " (1.0, 'part'),\n",
              " (1.0, 'opposite'),\n",
              " (1.0, 'nine'),\n",
              " (1.0, 'move'),\n",
              " (1.0, 'man'),\n",
              " (1.0, 'lift'),\n",
              " (1.0, 'lift'),\n",
              " (1.0, 'large'),\n",
              " (1.0, 'landing'),\n",
              " (1.0, 'forty'),\n",
              " (1.0, 'flat'),\n",
              " (1.0, 'five'),\n",
              " (1.0, 'even'),\n",
              " (1.0, 'escape'),\n",
              " (1.0, 'effort'),\n",
              " (1.0, 'cut'),\n",
              " (1.0, 'contrived'),\n",
              " (1.0, 'clocks'),\n",
              " (1.0, 'breast'),\n",
              " (1.0, 'best'),\n",
              " (1.0, 'april')]"
            ]
          },
          "metadata": {},
          "execution_count": 51
        }
      ]
    },
    {
      "cell_type": "code",
      "source": [
        "rake.get_word_frequency_distribution()"
      ],
      "metadata": {
        "colab": {
          "base_uri": "https://localhost:8080/"
        },
        "id": "uGke8CuvOaMq",
        "outputId": "d64e5a1d-9f82-41f0-f8f0-491de0b7814c"
      },
      "execution_count": null,
      "outputs": [
        {
          "output_type": "execute_result",
          "data": {
            "text/plain": [
              "Counter({'w': 31,\n",
              "         'b': 14,\n",
              "         'r': 57,\n",
              "         'g': 25,\n",
              "         'h': 59,\n",
              "         'c': 30,\n",
              "         'l': 41,\n",
              "         'n': 66,\n",
              "         'p': 19,\n",
              "         'e': 110,\n",
              "         'k': 9,\n",
              "         'u': 26,\n",
              "         'z': 3,\n",
              "         'f': 30,\n",
              "         'v': 13,\n",
              "         'q': 2})"
            ]
          },
          "metadata": {},
          "execution_count": 54
        }
      ]
    }
  ]
}